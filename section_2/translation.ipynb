%%writefile app.py
# 以下を「app.py」に書き込み
import streamlit as st
from langchain_openai import ChatOpenAI
from langchain_core.messages import HumanMessage, SystemMessage
from langchain_core.prompts import (
    ChatPromptTemplate,
    HumanMessagePromptTemplate,
    SystemMessagePromptTemplate
)
import os
import secret_keys  # 外部ファイルにAPI keyを保存

os.environ["OPENAI_API_KEY"] = secret_keys.openai_api_key
chat = ChatOpenAI(model="gpt-3.5-turbo")

# プロンプトのテンプレート
system_template = (
    "あなたは、{source_lang} を {target_lang}に翻訳する優秀な翻訳アシスタントです。翻訳結果以外は出力しないでください。"
)
system_message_prompt = SystemMessagePromptTemplate.from_template(system_template)

human_template = "{text}"
human_message_prompt = HumanMessagePromptTemplate.from_template(human_template)

chat_prompt = ChatPromptTemplate.from_messages(
    [system_message_prompt, human_message_prompt]
)

if "response" not in st.session_state:
    st.session_state["response"]= ""

# 発音取得関数
def get_pronunciation(text, target_lang):
    if target_lang == "日本語":
        return ""  # 日本語は不要
    
    pronunciation_prompt = f"「{text}」を{target_lang}から日本語のカタカナ発音に変換してください。発音のみを出力してください。"
    
    pronunciation_response = chat.invoke([
        SystemMessage(content="あなたは発音変換の専門家です。"),
        HumanMessage(content=pronunciation_prompt)
    ])
    return pronunciation_response.content

# LLMとやりとりする関数
def communicate():
    text = st.session_state["user_input"]
    response = chat.invoke(
        chat_prompt.format_prompt(
            source_lang=source_lang, target_lang=target_lang, text=text
        ).to_messages()
    )
    st.session_state["response"] = response.content

# ユーザーインターフェイスの構築
st.title("翻訳アプリ")
st.write("LangChainを使った翻訳アプリです。")

options = ["日本語", "英語", "スペイン語", "ドイツ語", "フランス語", "中国語", "ベトナム語", "タイ語"]
source_lang = st.selectbox(label="翻訳元", options=options)
target_lang = st.selectbox(label="翻訳先", options=options)
st.text_input("翻訳したい文章を入力してください。", key="user_input", on_change=communicate, help="", placeholder="翻訳する文章を入力してください。")
st.button("翻訳", type="primary", on_click=communicate)

if st.session_state["user_input"] != "":
    st.write("翻訳結果:")
    st.write(st.session_state["response"])
    
    # カタカナ発音の表示
    if st.session_state["response"] and target_lang != "日本語":
        pronunciation = get_pronunciation(st.session_state["response"], target_lang)
        if pronunciation:
            st.write(f"**カタカナ発音:** {pronunciation}")
 
    # 翻訳結果の文字数カウント
    if st.session_state["response"]:
        char_count = len(st.session_state["response"])
        word_count = len(st.session_state["response"].split())
        st.write(f"**文字数:** {char_count}文字, **単語数:** {word_count}語")
