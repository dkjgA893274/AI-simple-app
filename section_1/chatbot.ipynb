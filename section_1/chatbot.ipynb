{
  "nbformat": 4,
  "nbformat_minor": 0,
  "metadata": {
    "colab": {
      "provenance": [],
      "include_colab_link": true
    },
    "kernelspec": {
      "name": "python3",
      "display_name": "Python 3"
    },
    "language_info": {
      "name": "python"
    }
  },
  "cells": [
    {
      "cell_type": "markdown",
      "metadata": {
        "id": "view-in-github",
        "colab_type": "text"
      },
      "source": [
        "<a href=\"https://colab.research.google.com/github/dkjgA893274/AI-simple-app/blob/main/section_1/chatbot.ipynb\" target=\"_parent\"><img src=\"https://colab.research.google.com/assets/colab-badge.svg\" alt=\"Open In Colab\"/></a>"
      ]
    },
    {
      "cell_type": "markdown",
      "metadata": {
        "id": "8kW_qXJVTjic"
      },
      "source": [
        "# シンプルなチャットボット\n",
        "LangChainとStreamlitを使い、チャットボットを構築します。  "
      ]
    },
    {
      "cell_type": "markdown",
      "source": [
        "## ライブラリのインストール\n",
        "langchain-coreとlangchain-openaiをインストールします。  \n",
        "また、UIを構築するための「Streamlit」、およびアプリの動作の確認に使用する「ngrok」をインストールします。  "
      ],
      "metadata": {
        "id": "vRJCuxALcgkb"
      }
    },
    {
      "cell_type": "code",
      "execution_count": null,
      "metadata": {
        "id": "Pbqipzj3nCy4"
      },
      "outputs": [],
      "source": [
        "!pip install -U \"streamlit>=1.35\" \"pandas==2.2.2\" \"protobuf>=5.29,<6\" pyngrok langchain langchain-openai"
      ]
    },
    {
      "cell_type": "markdown",
      "source": [
        "## チャットボットのコード\n",
        "`%%writefile`のマジックコマンドを使って、チャットボットのコードを「app.py」に書き込みます。  \n",
        "Streamlitでは、値を保持するために「st.session_state」を使います。  \n",
        "https://docs.streamlit.io/library/api-reference/session-state"
      ],
      "metadata": {
        "id": "5fOtVgU5duPe"
      }
    },
    {
      "cell_type": "code",
      "source": [
        "%%writefile app.py\n",
        "# 以下を「app.py」に書き込み\n",
        "\n",
        "# ========================================\n",
        "# 必要なライブラリのインポート\n",
        "# ========================================\n",
        "import streamlit as st  # Webアプリケーション作成用\n",
        "from langchain_openai import ChatOpenAI  # OpenAIのチャットモデル\n",
        "from langchain.schema import HumanMessage, SystemMessage  # メッセージの型定義\n",
        "import os  # 環境変数操作用\n",
        "import secret_keys  # 外部ファイルにAPI keyを保存（セキュリティのため）\n",
        "\n",
        "# OpenAI APIキーを環境変数に設定\n",
        "os.environ[\"OPENAI_API_KEY\"] = secret_keys.openai_api_key\n",
        "\n",
        "# GPT-3.5-turboモデルを使用してチャットインスタンスを作成\n",
        "chat = ChatOpenAI(model=\"gpt-3.5-turbo\")\n",
        "\n",
        "# ========================================\n",
        "# セッション状態の初期化\n",
        "# ========================================\n",
        "# st.session_stateを使いメッセージのやりとりを保存\n",
        "if \"messages\" not in st.session_state:\n",
        "    st.session_state[\"messages\"] = [\n",
        "        SystemMessage(\n",
        "            content=\"あなたは優秀なアシスタントAIです。\"\n",
        "        )\n",
        "    ]\n",
        "\n",
        "# ========================================\n",
        "# 関数定義\n",
        "# ========================================\n",
        "\n",
        "# 会話履歴をクリアする関数\n",
        "def clear_chat():\n",
        "    \"\"\"\n",
        "    会話履歴をリセットして、新しい会話を開始できるようにする\n",
        "    システムメッセージのみを残して、ユーザーとAIの会話履歴を削除\n",
        "    \"\"\"\n",
        "    st.session_state[\"messages\"] = [\n",
        "        SystemMessage(\n",
        "            content=\"あなたは優秀なアシスタントAIです。\"\n",
        "        )\n",
        "    ]\n",
        "\n",
        "# LLMとやりとりする関数\n",
        "def communicate():\n",
        "    \"\"\"\n",
        "    ユーザーの入力を受け取り、AIに送信して応答を取得する\n",
        "    会話履歴にユーザーメッセージとAIの応答を追加\n",
        "    \"\"\"\n",
        "    # 現在の会話履歴を取得\n",
        "    messages = st.session_state[\"messages\"]\n",
        "\n",
        "    # ユーザーの入力をHumanMessageオブジェクトに変換\n",
        "    user_message = HumanMessage(\n",
        "        content=st.session_state[\"user_input\"]\n",
        "    )\n",
        "\n",
        "    # 会話履歴にユーザーメッセージを追加\n",
        "    messages.append(user_message)\n",
        "\n",
        "    # AIにメッセージを送信して応答を取得\n",
        "    response = chat(messages)\n",
        "\n",
        "    # AIの応答を会話履歴に追加\n",
        "    messages.append(response)\n",
        "\n",
        "    st.session_state[\"user_input\"] = \"\"  # 入力欄を消去\n",
        "\n",
        "# ========================================\n",
        "# ユーザーインターフェイスの構築\n",
        "# ========================================\n",
        "\n",
        "# アプリのタイトルと説明\n",
        "st.title(\"My AI Assistant\")\n",
        "st.write(\"LangChainを使ったチャットボットです。\")\n",
        "\n",
        "# ========================================\n",
        "# 入力エリア（テキスト入力 + クリアボタン）\n",
        "# ========================================\n",
        "# レイアウトを2列に分割（入力欄:クリアボタン = 3:1の比率）\n",
        "col1, col2 = st.columns([3, 1])\n",
        "\n",
        "with col1:\n",
        "    # テキスト入力欄（Enterキーまたはボタンクリックで送信）\n",
        "    user_input = st.text_input(\n",
        "        \"メッセージを入力してください。\",\n",
        "        key=\"user_input\",\n",
        "        on_change=communicate  # 入力時に自動的にcommunicate関数を実行\n",
        "    )\n",
        "\n",
        "with col2:\n",
        "    # クリアボタンを入力欄と同じ高さに配置するため、適切なスペースを追加\n",
        "    st.markdown(\"<br>\", unsafe_allow_html=True)  # HTMLの改行タグでより正確に位置調整\n",
        "    # 会話履歴をクリアするボタン\n",
        "    if st.button(\"🗑️ 会話をクリア\", help=\"会話履歴をリセットします\"):\n",
        "        clear_chat()  # 会話履歴をリセット\n",
        "        st.rerun()    # ページを再読み込みしてUIを更新\n",
        "\n",
        "# ========================================\n",
        "# 会話履歴の表示\n",
        "# ========================================\n",
        "# メッセージが存在する場合のみ表示\n",
        "if st.session_state[\"messages\"]:\n",
        "    messages = st.session_state[\"messages\"]\n",
        "\n",
        "    # 会話履歴を逆順で表示（最新のメッセージが上に来る）\n",
        "    for message in reversed(messages[1:]):  # システムメッセージ（インデックス0）は除外\n",
        "        # メッセージの送信者に応じてアイコンを設定\n",
        "        speaker = \"🙂\"  # デフォルトはユーザー\n",
        "        if message.type == \"ai\":\n",
        "            speaker = \"🤖\"  # AIの場合はロボットアイコン\n",
        "\n",
        "        # メッセージを表示（アイコン + 内容）\n",
        "        st.write(speaker + \": \" + message.content)"
      ],
      "metadata": {
        "id": "Ntj_BU3bnJli"
      },
      "execution_count": null,
      "outputs": []
    },
    {
      "cell_type": "markdown",
      "source": [
        "## OpenAIのAPI keyを設定\n",
        "ChatGPT APIを使用するために必要な「API key」を設定します。  \n",
        "`%%writefile`のマジックコマンドを使って、API keyを設定するコードを「secret_keys.py」に書き込みます。  \n",
        "以下のコードの、  \n",
        "`openai_api_key = \"Your API key\"`  \n",
        "における  \n",
        "`Your API key`の箇所を、自分のAPI keyに置き換えます。  \n",
        "ChatGPTのAPI keyは、OpenAIのサイトで取得できます。   \n",
        "https://platform.openai.com/account/api-keys\n"
      ],
      "metadata": {
        "id": "pCvWZuvqQvyC"
      }
    },
    {
      "cell_type": "code",
      "source": [
        "%%writefile secret_keys.py\n",
        "\n",
        "openai_api_key = \"Your API key\""
      ],
      "metadata": {
        "id": "4lkJr3dk89bD"
      },
      "execution_count": null,
      "outputs": []
    },
    {
      "cell_type": "markdown",
      "source": [
        "API keyの流出にはリスクがあります。  \n",
        "他者に知られないように、慎重に扱ってください。"
      ],
      "metadata": {
        "id": "2lEUNEp9n95k"
      }
    },
    {
      "cell_type": "markdown",
      "source": [
        "## ngrokのAuthtokenを設定\n",
        "ngrokで接続するために必要な「Authtoken」を設定します。  \n",
        "以下のコードの、  \n",
        "`!ngrok authtoken YourAuthtoken`  \n",
        "における  \n",
        "`YourAuthtoken`の箇所を、自分のAuthtokenに置き換えます。  \n",
        "Authtokenは、ngrokのサイトに登録すれば取得することができます。  \n",
        "https://ngrok.com/\n"
      ],
      "metadata": {
        "id": "j03EsJaHh4KK"
      }
    },
    {
      "cell_type": "code",
      "source": [
        "!ngrok authtoken YourAuthtoken"
      ],
      "metadata": {
        "id": "mTfmORj2Dn7-"
      },
      "execution_count": null,
      "outputs": []
    },
    {
      "cell_type": "markdown",
      "source": [
        "ngrokのAuthtokenも、他者に知られないように慎重に扱ってください。"
      ],
      "metadata": {
        "id": "c_QaXaeyZHTJ"
      }
    },
    {
      "cell_type": "markdown",
      "source": [
        "## アプリの起動\n",
        "streamlitの`run`コマンドでアプリを起動します。\n"
      ],
      "metadata": {
        "id": "CnobL05MkjB1"
      }
    },
    {
      "cell_type": "code",
      "source": [
        "!streamlit run app.py &>/dev/null&  # 「&>/dev/null&」により、出力を非表示にしてバックグランドジョブとして実行"
      ],
      "metadata": {
        "id": "W0jXlMXWK0vi"
      },
      "execution_count": null,
      "outputs": []
    },
    {
      "cell_type": "markdown",
      "source": [
        "ngrokのプロセスを終了した上で、新たにポートを指定して接続します。  \n",
        "接続の結果、urlを取得できます。  \n",
        "ngrokの無料プランでは同時に1つのプロセスしか動かせないので、エラーが発生した場合は「ランタイム」→「セッションの管理」で不要なGoogle Colabのセッションを修了しましょう。  "
      ],
      "metadata": {
        "id": "W5RLCJ7Sl2x_"
      }
    },
    {
      "cell_type": "code",
      "source": [
        "from pyngrok import ngrok\n",
        "\n",
        "ngrok.kill()  # プロセスの修了\n",
        "url = ngrok.connect(\"8501\").public_url  # 接続"
      ],
      "metadata": {
        "id": "v23ymsdLK3x7"
      },
      "execution_count": null,
      "outputs": []
    },
    {
      "cell_type": "markdown",
      "source": [
        "## 動作の確認"
      ],
      "metadata": {
        "id": "8tVONgWNwzZm"
      }
    },
    {
      "cell_type": "markdown",
      "source": [
        "URLのhttpの部分をhttpsに変換する関数を設定します。"
      ],
      "metadata": {
        "id": "OywWF0KBw4y5"
      }
    },
    {
      "cell_type": "code",
      "source": [
        "def convert_http_to_https(url):\n",
        "    if url.startswith(\"http://\"):\n",
        "        url = url.replace(\"http://\", \"https://\", 1)\n",
        "    return url"
      ],
      "metadata": {
        "id": "gaEkk5Dsx0rR"
      },
      "execution_count": null,
      "outputs": []
    },
    {
      "cell_type": "markdown",
      "source": [
        "変換したurlを表示し、リンク先でチャットボットが動作することを確認します。"
      ],
      "metadata": {
        "id": "NZ0O_pNan57t"
      }
    },
    {
      "cell_type": "code",
      "source": [
        "print(convert_http_to_https(url))"
      ],
      "metadata": {
        "id": "MIY7ositLAXC"
      },
      "execution_count": null,
      "outputs": []
    },
    {
      "cell_type": "markdown",
      "source": [
        "チャットボットの動作確認後、OpenAIのサイトでAPIの使用量を確認してみましょう。  \n",
        "https://platform.openai.com/account/usage"
      ],
      "metadata": {
        "id": "B8hdFAd6VIaz"
      }
    }
  ]
}